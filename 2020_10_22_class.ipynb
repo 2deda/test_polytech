{
  "nbformat": 4,
  "nbformat_minor": 0,
  "metadata": {
    "colab": {
      "name": "2020.10.22_class.ipynb",
      "provenance": [],
      "collapsed_sections": [],
      "authorship_tag": "ABX9TyOhpi3RhfgaLcZcTTc9w/R3",
      "include_colab_link": true
    },
    "kernelspec": {
      "name": "python3",
      "display_name": "Python 3"
    }
  },
  "cells": [
    {
      "cell_type": "markdown",
      "metadata": {
        "id": "view-in-github",
        "colab_type": "text"
      },
      "source": [
        "<a href=\"https://colab.research.google.com/github/2deda/test_polytech/blob/master/2020_10_22_class.ipynb\" target=\"_parent\"><img src=\"https://colab.research.google.com/assets/colab-badge.svg\" alt=\"Open In Colab\"/></a>"
      ]
    },
    {
      "cell_type": "markdown",
      "metadata": {
        "id": "8C-Jf9gSSn7_"
      },
      "source": [
        "# НАХОЖДЕНИЕ НУЖНОГО ПРИЛОЖЕНИЯ\n",
        "\n",
        "Лунев Ярослав"
      ]
    },
    {
      "cell_type": "markdown",
      "metadata": {
        "id": "9bReKjUtR9Y1"
      },
      "source": [
        "## Задание\n",
        "\n",
        "Найти нужное приложение на трех экранах (списках)"
      ]
    },
    {
      "cell_type": "markdown",
      "metadata": {
        "id": "8GvJEEgHSngj"
      },
      "source": [
        "## Решение"
      ]
    },
    {
      "cell_type": "code",
      "metadata": {
        "id": "_COCGHByTLWM",
        "outputId": "e9e9db08-2ba2-43ca-c758-5665ecf67ea8",
        "colab": {
          "base_uri": "https://localhost:8080/",
          "height": 35
        }
      },
      "source": [
        "tools = ['calculator','clock','scanner','compass']\n",
        "applications = ['twitter','instagram','russian railways']\n",
        "videogames = ['transport tycoon','terraria']\n",
        "\n",
        "phone = [tools,applications,videogames]\n",
        "\n",
        "def find(app_target):\n",
        "  for i, screen in enumerate(phone):\n",
        "    for app_name in screen:\n",
        "      if app_name == app_target:\n",
        "        print(f'Found {app_name} on screen {i}')\n",
        "        return\n",
        "  print('NOT FOUND')\n",
        "\n",
        "find('russian railways')"
      ],
      "execution_count": 24,
      "outputs": [
        {
          "output_type": "stream",
          "text": [
            "Found russian railways on screen 1\n"
          ],
          "name": "stdout"
        }
      ]
    },
    {
      "cell_type": "code",
      "metadata": {
        "id": "6jny5S_Mbvps"
      },
      "source": [
        "|"
      ],
      "execution_count": null,
      "outputs": []
    }
  ]
}