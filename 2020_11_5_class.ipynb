{
  "nbformat": 4,
  "nbformat_minor": 0,
  "metadata": {
    "colab": {
      "name": "2020_11_5_class.ipynb",
      "provenance": [],
      "authorship_tag": "ABX9TyPz97g9WIBAB1+vkqy3/gMp",
      "include_colab_link": true
    },
    "kernelspec": {
      "name": "python3",
      "display_name": "Python 3"
    }
  },
  "cells": [
    {
      "cell_type": "markdown",
      "metadata": {
        "id": "view-in-github",
        "colab_type": "text"
      },
      "source": [
        "<a href=\"https://colab.research.google.com/github/2deda/test_polytech/blob/master/2020_11_5_class.ipynb\" target=\"_parent\"><img src=\"https://colab.research.google.com/assets/colab-badge.svg\" alt=\"Open In Colab\"/></a>"
      ]
    },
    {
      "cell_type": "markdown",
      "metadata": {
        "id": "jd4L3RhAU3HB"
      },
      "source": [
        "# Бинарный поиск #"
      ]
    },
    {
      "cell_type": "code",
      "metadata": {
        "id": "2G48hMatUkvR",
        "outputId": "90c3a726-a58e-4d3b-849e-7b594301accb",
        "colab": {
          "base_uri": "https://localhost:8080/",
          "height": 540
        }
      },
      "source": [
        "import random\n",
        "\n",
        "l = 15\n",
        "\n",
        "numbers = []\n",
        "for count in range(l):\n",
        "  n = random.randint(0,20)\n",
        "  numbers.append(n)\n",
        "\n",
        "for count in range(l):\n",
        "  print(numbers[count])\n",
        "\n",
        "numbers = sorted(numbers)\n",
        "\n",
        "print()\n",
        "\n",
        "needle = 5\n",
        "\n",
        "while len(numbers) > 1:\n",
        "  if numbers[len(numbers)//2] == needle:\n",
        "    ndl_place = len(numbers)//2\n",
        "    list.clear(numbers)\n",
        "    numbers[0] = needle\n",
        "    break\n",
        "  elif numbers[len(numbers)//2] > needle:\n",
        "    del numbers[len(numbers)//2:]\n",
        "  else: del numbers[:len(numbers)//2]\n",
        "\n",
        "if numbers[0] == needle:\n",
        "  print('Found!', needle, ' in place (work in progress)')\n",
        "else: print('Not found :c')"
      ],
      "execution_count": 29,
      "outputs": [
        {
          "output_type": "stream",
          "text": [
            "15\n",
            "18\n",
            "20\n",
            "9\n",
            "1\n",
            "2\n",
            "5\n",
            "7\n",
            "11\n",
            "0\n",
            "12\n",
            "3\n",
            "19\n",
            "1\n",
            "18\n",
            "\n"
          ],
          "name": "stdout"
        },
        {
          "output_type": "error",
          "ename": "IndexError",
          "evalue": "ignored",
          "traceback": [
            "\u001b[0;31m---------------------------------------------------------------------------\u001b[0m",
            "\u001b[0;31mIndexError\u001b[0m                                Traceback (most recent call last)",
            "\u001b[0;32m<ipython-input-29-c16bde538ca7>\u001b[0m in \u001b[0;36m<module>\u001b[0;34m()\u001b[0m\n\u001b[1;32m     21\u001b[0m     \u001b[0mndl_place\u001b[0m \u001b[0;34m=\u001b[0m \u001b[0mlen\u001b[0m\u001b[0;34m(\u001b[0m\u001b[0mnumbers\u001b[0m\u001b[0;34m)\u001b[0m\u001b[0;34m//\u001b[0m\u001b[0;36m2\u001b[0m\u001b[0;34m\u001b[0m\u001b[0;34m\u001b[0m\u001b[0m\n\u001b[1;32m     22\u001b[0m     \u001b[0mlist\u001b[0m\u001b[0;34m.\u001b[0m\u001b[0mclear\u001b[0m\u001b[0;34m(\u001b[0m\u001b[0mnumbers\u001b[0m\u001b[0;34m)\u001b[0m\u001b[0;34m\u001b[0m\u001b[0;34m\u001b[0m\u001b[0m\n\u001b[0;32m---> 23\u001b[0;31m     \u001b[0mnumbers\u001b[0m\u001b[0;34m[\u001b[0m\u001b[0;36m0\u001b[0m\u001b[0;34m]\u001b[0m \u001b[0;34m=\u001b[0m \u001b[0mneedle\u001b[0m\u001b[0;34m\u001b[0m\u001b[0;34m\u001b[0m\u001b[0m\n\u001b[0m\u001b[1;32m     24\u001b[0m     \u001b[0;32mbreak\u001b[0m\u001b[0;34m\u001b[0m\u001b[0;34m\u001b[0m\u001b[0m\n\u001b[1;32m     25\u001b[0m   \u001b[0;32melif\u001b[0m \u001b[0mnumbers\u001b[0m\u001b[0;34m[\u001b[0m\u001b[0mlen\u001b[0m\u001b[0;34m(\u001b[0m\u001b[0mnumbers\u001b[0m\u001b[0;34m)\u001b[0m\u001b[0;34m//\u001b[0m\u001b[0;36m2\u001b[0m\u001b[0;34m]\u001b[0m \u001b[0;34m>\u001b[0m \u001b[0mneedle\u001b[0m\u001b[0;34m:\u001b[0m\u001b[0;34m\u001b[0m\u001b[0;34m\u001b[0m\u001b[0m\n",
            "\u001b[0;31mIndexError\u001b[0m: list assignment index out of range"
          ]
        }
      ]
    }
  ]
}